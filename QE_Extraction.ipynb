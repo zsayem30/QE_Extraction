{
  "nbformat": 4,
  "nbformat_minor": 0,
  "metadata": {
    "colab": {
      "name": "QE_Extraction.ipynb",
      "provenance": [],
      "mount_file_id": "1vBiPTWJTuJpHigemf-PyvWO_pGetcAUk",
      "authorship_tag": "ABX9TyMntRw593uXRMVJgait9djI"
    },
    "kernelspec": {
      "name": "python3",
      "display_name": "Python 3"
    },
    "language_info": {
      "name": "python"
    }
  },
  "cells": [
    {
      "cell_type": "code",
      "metadata": {
        "id": "P__voq9z0bUe"
      },
      "source": [
        "import math\n",
        "import numpy as np\n",
        "import re\n",
        "import pandas as pd\n",
        "from collections import Counter\n",
        "from matplotlib import pyplot as plt\n",
        "from PIL import Image\n",
        "import matplotlib.pyplot as plt"
      ],
      "execution_count": 1,
      "outputs": []
    },
    {
      "cell_type": "code",
      "metadata": {
        "colab": {
          "base_uri": "https://localhost:8080/"
        },
        "id": "lFAMpqQO08_N",
        "outputId": "939237a8-3b16-4c80-f658-653053251129"
      },
      "source": [
        "from google.colab import drive\n",
        "drive.mount('/content/drive', force_remount=True)"
      ],
      "execution_count": 2,
      "outputs": [
        {
          "output_type": "stream",
          "name": "stdout",
          "text": [
            "Mounted at /content/drive\n"
          ]
        }
      ]
    },
    {
      "cell_type": "code",
      "metadata": {
        "id": "ODjM6gZQ0_nc"
      },
      "source": [
        "#Display Requirements\n",
        "\n",
        "height = 8.4 #inches\n",
        "width = 11.2 #inches\n",
        "resolution_height = 480 #pixels\n",
        "resolution_width = 640 #pixels\n",
        "depth = 18 #inches\n",
        "degree_va = 3* (math.pi)/180 #3 Degrees of visual angle\n",
        "deviation_inches = depth * math.tan(degree_va)\n",
        "\n",
        "DPI = (resolution_height**2 + resolution_width**2)**(0.5)/((height**2 + width**2))**(0.5)\n",
        "\n",
        "deviation = deviation_inches * DPI"
      ],
      "execution_count": 3,
      "outputs": []
    },
    {
      "cell_type": "code",
      "metadata": {
        "id": "LOgHZiOXbR5a"
      },
      "source": [
        "#loading the data\n",
        "PATH = \"/content/drive/MyDrive/QE_Project/data_local_part_1_15_6_2021_16_49_27_1to1_event.xlsx\"\n",
        "\n",
        "data = pd.read_excel(PATH)\n",
        "df = pd.DataFrame(data)\n",
        "data_array = df.to_numpy()\n",
        "data_splt_1 = data_array[:-1, 0:3]\n",
        "data_splt_2 = data_array[1:, 3:]\n",
        "data_merge = np.hstack((data_splt_1, data_splt_2))\n",
        "data = data_merge[::2]\n",
        "#Discard first frame because the values for the eye gaze is not correct. (gaze_cnt = 0)\n",
        "data = data[1:, :]\n",
        "QE_period = 100 #ms\n",
        "data[:, 2] = (data[:, 91] - data[0, 91]) * 1000\n",
        "\n",
        "#Convert the x and y positions of the LPOG to pixels\n",
        "data[:, 105] = (data[:, 105]/100)*resolution_width\n",
        "data[:, 106] = (data[:, 106]/100)*resolution_height\n",
        "\n",
        "data_filtered = np.hstack((data[:, 1:3], data[:, 47:54], data[:, 56:63], data[:, 65:69], data[:, 105:108]))\n",
        "nan_indexes = [i for i in range(len(data_filtered)) if np.isnan(data_filtered[i, 20])]\n",
        "data_filtered = np.delete(data_filtered, nan_indexes, 0)\n",
        "\n",
        "cX = data_filtered[0, 20]\n",
        "cY = data_filtered[0, 21]\n",
        "\n",
        "i = 0\n",
        "fixations = []\n",
        "while (i < len(data_filtered) - 1):\n",
        "\n",
        "  cX, cY = data_filtered[i, 20], data_filtered[i, 21]\n",
        "  fixation = return_first_fixation(cX, cY, i, deviation, data_filtered)\n",
        "  print(fixation)\n",
        "  if(fixation[-1] > QE_period):\n",
        "    fixations.append(fixation)\n",
        "  \n",
        "  i = fixation[0]\n",
        "\n",
        "# print(fixations)"
      ],
      "execution_count": null,
      "outputs": []
    },
    {
      "cell_type": "code",
      "metadata": {
        "id": "HYUVJbWRCdm_"
      },
      "source": [
        "#takes in center coordinates, starting index, deviation and returns the first (likely) fixation \n",
        "\n",
        "def return_first_fixation(cX, cY, i, deviation, data):\n",
        "  \n",
        "  j = i + 1\n",
        "  fixation_time = data[i, 1]\n",
        "  frame_number = data[i, 0]\n",
        "\n",
        "  for j in range(i + 1, len(data)):\n",
        "\n",
        "    jX, jY = data[j, 20], data[j, 21]\n",
        "    dX, dY = abs(jX - cX), abs(jY - cY)\n",
        "    distance = (dX**2 + dY**2)**(0.5)\n",
        "\n",
        "    if (distance < deviation):\n",
        "      fixation_time = data[j, 1]\n",
        "      frame_number = data[j, 0]\n",
        "\n",
        "    else:\n",
        "      duration = fixation_time - data[i, 1]\n",
        "      array = [j, data[i, 0], data[j - 1, 0], duration]\n",
        "      return array\n",
        "\n",
        "  duration = fixation_time - data [j - 1, 1]\n",
        "  array = [j, data[i, 0], data[j - 1, 0], duration]\n",
        "  return array\n",
        "\n",
        "# takes in the dataset, deviation and QE_period and returns a list of all fixations (likely) in the dataset.\n",
        "\n",
        "def return_possible_fixations(data, deviation, QE_period):\n",
        "  i = 0\n",
        "  fixations = []\n",
        "  while (i < len(data_filtered) - 1):\n",
        "\n",
        "    cX, cY = data_filtered[i, 20], data_filtered[i, 21]\n",
        "    fixation = return_first_fixation(cX, cY, i, deviation, data_filtered)\n",
        "    print(fixation)\n",
        "    if(fixation[-1] > QE_period):\n",
        "      fixations.append(fixation)\n",
        "    \n",
        "    i = fixation[0]\n",
        "\n",
        "  return fixations"
      ],
      "execution_count": 13,
      "outputs": []
    },
    {
      "cell_type": "code",
      "metadata": {
        "id": "JFme4WpXsDvy"
      },
      "source": [
        ""
      ],
      "execution_count": null,
      "outputs": []
    }
  ]
}